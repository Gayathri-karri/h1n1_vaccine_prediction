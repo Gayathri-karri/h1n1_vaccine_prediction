{
 "cells": [
  {
   "cell_type": "code",
   "execution_count": null,
   "id": "e50c6202",
   "metadata": {},
   "outputs": [],
   "source": [
    "import pandas as pd\n",
    "import numpy as np\n",
    "import matplotlib.pyplot as plt\n",
    "%matplotlib inline\n",
    "import seaborn as sns\n",
    "from sklearn.ensemble import AdaBoostClassifier,GradientBoostingClassifier,RandomForestClassifier\n",
    "from sklearn.linear_model import LogisticRegression\n",
    "from sklearn.neighbors import KNeighborsClassifier\n",
    "from sklearn.tree import DecisionTreeClassifier\n",
    "from sklearn.metrics import f1_score\n",
    "\n",
    "from sklearn.metrics import classification_report,accuracy_score,confusion_matrix\n",
    "from sklearn.model_selection import cross_val_score\n",
    "from sklearn.model_selection import train_test_split\n",
    "from sklearn.preprocessing import LabelEncoder\n",
    "le=LabelEncoder()\n",
    "\n",
    "import warnings\n",
    "warnings.filterwarnings(\"ignore\")"
   ]
  },
  {
   "cell_type": "code",
   "execution_count": null,
   "id": "8974f83d",
   "metadata": {},
   "outputs": [],
   "source": [
    "df=pd.read_csv('h1n1_vaccine_prediction (3).csv')"
   ]
  },
  {
   "cell_type": "code",
   "execution_count": null,
   "id": "604046e0",
   "metadata": {},
   "outputs": [],
   "source": [
    "df.head()"
   ]
  },
  {
   "cell_type": "code",
   "execution_count": null,
   "id": "512d0317",
   "metadata": {},
   "outputs": [],
   "source": [
    "df"
   ]
  },
  {
   "cell_type": "code",
   "execution_count": null,
   "id": "e1fa5161",
   "metadata": {},
   "outputs": [],
   "source": [
    "#number of rows=26707 now let us find out the missing values and perform exploratory data analysis"
   ]
  },
  {
   "cell_type": "code",
   "execution_count": null,
   "id": "6ea6e50a",
   "metadata": {},
   "outputs": [],
   "source": [
    "df.isnull().sum()"
   ]
  },
  {
   "cell_type": "code",
   "execution_count": null,
   "id": "2e6c2b1c",
   "metadata": {},
   "outputs": [],
   "source": [
    "df.info()"
   ]
  },
  {
   "cell_type": "code",
   "execution_count": null,
   "id": "ed9b7f63",
   "metadata": {},
   "outputs": [],
   "source": [
    "#remove has_health_insur colum as there are more number of missing values\n",
    "df=df.drop('has_health_insur',axis=1)\n",
    "df.head()"
   ]
  },
  {
   "cell_type": "code",
   "execution_count": null,
   "id": "3a69774d",
   "metadata": {},
   "outputs": [],
   "source": [
    "df.dtypes"
   ]
  },
  {
   "cell_type": "code",
   "execution_count": null,
   "id": "4278c51f",
   "metadata": {},
   "outputs": [],
   "source": [
    "df['race'].value_counts()"
   ]
  },
  {
   "cell_type": "code",
   "execution_count": null,
   "id": "0cceb813",
   "metadata": {},
   "outputs": [],
   "source": [
    "med=df['race'].mode().values[0]\n",
    "df['race']=df['race'].replace(np.nan,med)\n",
    "df['race']=df['race'].replace('White','1')\n",
    "df['race']=df['race'].replace('Black','2')\n",
    "df['race']=df['race'].replace('Hispanic','3')\n",
    "df['race']=df['race'].replace('Other or Multiple','4')"
   ]
  },
  {
   "cell_type": "code",
   "execution_count": null,
   "id": "ff9027c6",
   "metadata": {},
   "outputs": [],
   "source": []
  },
  {
   "cell_type": "code",
   "execution_count": null,
   "id": "c21520bf",
   "metadata": {},
   "outputs": [],
   "source": [
    "df.head()"
   ]
  },
  {
   "cell_type": "code",
   "execution_count": null,
   "id": "54e0b5c6",
   "metadata": {},
   "outputs": [],
   "source": [
    "df['race']=df['race'].astype(float)"
   ]
  },
  {
   "cell_type": "code",
   "execution_count": null,
   "id": "12d887c3",
   "metadata": {},
   "outputs": [],
   "source": [
    "df.dtypes"
   ]
  },
  {
   "cell_type": "code",
   "execution_count": null,
   "id": "3eeb611a",
   "metadata": {},
   "outputs": [],
   "source": [
    "df['sex'].value_counts()"
   ]
  },
  {
   "cell_type": "code",
   "execution_count": null,
   "id": "383a23d5",
   "metadata": {},
   "outputs": [],
   "source": [
    "mode=df['sex'].mode().values[0]\n",
    "df['sex']=df['sex'].replace(np.nan,mode)\n",
    "df['sex']=df['sex'].replace('Female','1')\n",
    "df['sex']=df['sex'].replace('Male','0')\n",
    "df['sex']=df['sex'].astype(float)"
   ]
  },
  {
   "cell_type": "code",
   "execution_count": null,
   "id": "769097ab",
   "metadata": {},
   "outputs": [],
   "source": [
    "df['income_level'].value_counts()"
   ]
  },
  {
   "cell_type": "code",
   "execution_count": null,
   "id": "ca49d07b",
   "metadata": {},
   "outputs": [],
   "source": [
    "m1=df['income_level'].mode().values[0]\n",
    "df['income_level']=df['income_level'].replace(np.nan,m1)\n",
    "df['income_level']=df['income_level'].replace('<= $75,000, Above Poverty','74999')\n",
    "df['income_level']=df['income_level'].replace('> $75,000','75001')\n",
    "df['income_level']=df['income_level'].replace('Below Poverty','0')\n",
    "df['income_level']=df['income_level'].astype(float)"
   ]
  },
  {
   "cell_type": "code",
   "execution_count": null,
   "id": "b7642f4b",
   "metadata": {},
   "outputs": [],
   "source": [
    "df.isnull().sum()"
   ]
  },
  {
   "cell_type": "code",
   "execution_count": null,
   "id": "244bc84d",
   "metadata": {},
   "outputs": [],
   "source": [
    "df['marital_status'].value_counts()"
   ]
  },
  {
   "cell_type": "code",
   "execution_count": null,
   "id": "fecff03b",
   "metadata": {},
   "outputs": [],
   "source": [
    "m2=df['marital_status'].mode().values[0]\n",
    "df['marital_status']=df['marital_status'].replace(np.nan,m2)\n",
    "df['marital_status']=df['marital_status'].replace('Married','1')\n",
    "df['marital_status']=df['marital_status'].replace('Not Married','0')\n",
    "df['marital_status']=df['marital_status'].astype(float)"
   ]
  },
  {
   "cell_type": "code",
   "execution_count": null,
   "id": "ac2ff343",
   "metadata": {},
   "outputs": [],
   "source": [
    "df['housing_status'].value_counts()"
   ]
  },
  {
   "cell_type": "code",
   "execution_count": null,
   "id": "b0c0e2f0",
   "metadata": {},
   "outputs": [],
   "source": [
    "m3=df['housing_status'].mode().values[0]\n",
    "df['housing_status']=df['housing_status'].replace(np.nan,m3)\n",
    "df['housing_status']=df['housing_status'].replace('Own','1')\n",
    "df['housing_status']=df['housing_status'].replace('Rent','0')\n",
    "df['housing_status']=df['housing_status'].astype(float)"
   ]
  },
  {
   "cell_type": "code",
   "execution_count": null,
   "id": "eb9e2567",
   "metadata": {},
   "outputs": [],
   "source": [
    "df['employment'].value_counts()"
   ]
  },
  {
   "cell_type": "code",
   "execution_count": null,
   "id": "91627e9d",
   "metadata": {},
   "outputs": [],
   "source": [
    "m4=df['employment'].mode().values[0]\n",
    "df['employment']=df['employment'].replace(np.nan,m4)\n",
    "df['employment']=df['employment'].replace('Unemployed','0')\n",
    "df['employment']=df['employment'].replace('Not in Labor Force','1')\n",
    "df['employment']=df['employment'].replace('Employed','2')\n",
    "df['employment']=df['employment'].astype(float)"
   ]
  },
  {
   "cell_type": "code",
   "execution_count": null,
   "id": "4b57f0a3",
   "metadata": {},
   "outputs": [],
   "source": [
    "df.isnull().sum()"
   ]
  },
  {
   "cell_type": "code",
   "execution_count": null,
   "id": "dfff352a",
   "metadata": {},
   "outputs": [],
   "source": [
    "df.dtypes"
   ]
  },
  {
   "cell_type": "code",
   "execution_count": null,
   "id": "c4010a44",
   "metadata": {
    "scrolled": true
   },
   "outputs": [],
   "source": [
    "df['age_bracket'].value_counts()"
   ]
  },
  {
   "cell_type": "code",
   "execution_count": null,
   "id": "6fc10a71",
   "metadata": {},
   "outputs": [],
   "source": [
    "df['age_bracket']=df['age_bracket'].replace('65+ Years','65')\n",
    "df['age_bracket']=df['age_bracket'].replace('55 - 64 Years','56')\n",
    "df['age_bracket']=df['age_bracket'].replace('45 - 54 Years','46')\n",
    "df['age_bracket']=df['age_bracket'].replace('18 - 34 Years','19')\n",
    "df['age_bracket']=df['age_bracket'].replace('35 - 44 Years','36')\n",
    "df['age_bracket']=df['age_bracket'].astype(float)"
   ]
  },
  {
   "cell_type": "code",
   "execution_count": null,
   "id": "c41d0632",
   "metadata": {},
   "outputs": [],
   "source": [
    "df['qualification'].value_counts()"
   ]
  },
  {
   "cell_type": "code",
   "execution_count": null,
   "id": "db872319",
   "metadata": {},
   "outputs": [],
   "source": [
    "m5=df['qualification'].mode().values[0]\n",
    "df['qualification']=df['qualification'].replace(np.nan,m5)\n",
    "df['qualification']=df['qualification'].replace('College Graduate','0')\n",
    "df['qualification']=df['qualification'].replace('Some College','1')\n",
    "df['qualification']=df['qualification'].replace('12 Years','2')\n",
    "df['qualification']=df['qualification'].replace('< 12 Years','3')\n",
    "df['qualification']=df['qualification'].astype(float)"
   ]
  },
  {
   "cell_type": "code",
   "execution_count": null,
   "id": "c9500c6e",
   "metadata": {
    "scrolled": false
   },
   "outputs": [],
   "source": [
    "df.isnull().sum()"
   ]
  },
  {
   "cell_type": "code",
   "execution_count": null,
   "id": "7161a72a",
   "metadata": {},
   "outputs": [],
   "source": [
    "df.dtypes"
   ]
  },
  {
   "cell_type": "code",
   "execution_count": null,
   "id": "6bc0f7c9",
   "metadata": {},
   "outputs": [],
   "source": [
    "df['census_msa'].value_counts()"
   ]
  },
  {
   "cell_type": "code",
   "execution_count": null,
   "id": "3be67970",
   "metadata": {},
   "outputs": [],
   "source": [
    "df['census_msa']=df['census_msa'].replace('MSA, Not Principle  City','1')\n",
    "df['census_msa']=df['census_msa'].replace('MSA, Principle City','2')\n",
    "df['census_msa']=df['census_msa'].replace('Non-MSA','0')\n",
    "df['census_msa']=df['census_msa'].astype(float)"
   ]
  },
  {
   "cell_type": "code",
   "execution_count": null,
   "id": "ed5f853b",
   "metadata": {},
   "outputs": [],
   "source": [
    "df.head()"
   ]
  },
  {
   "cell_type": "code",
   "execution_count": null,
   "id": "547d7b3d",
   "metadata": {},
   "outputs": [],
   "source": [
    "df[\"h1n1_worry\"].fillna(df[\"h1n1_worry\"].mean(),inplace=True)"
   ]
  },
  {
   "cell_type": "code",
   "execution_count": null,
   "id": "5270599a",
   "metadata": {},
   "outputs": [],
   "source": [
    "df[\"h1n1_worry\"].fillna(df[\"h1n1_worry\"].mean(),inplace=True)\n",
    "df[\"h1n1_awareness\"].fillna(df[\"h1n1_awareness\"].mean(),inplace=True)\n",
    "df[\"antiviral_medication\"].fillna(df[\"antiviral_medication\"].mean(),inplace=True)\n",
    "df[\"contact_avoidance\"].fillna(df[\"contact_avoidance\"].mean(),inplace=True)\n",
    "df[\"bought_face_mask\"].fillna(df[\"bought_face_mask\"].mean(),inplace=True)\n",
    "df[\"wash_hands_frequently\"].fillna(df[\"wash_hands_frequently\"].mean(),inplace=True)\n",
    "df[\"avoid_large_gatherings\"].fillna(df[\"avoid_large_gatherings\"].mean(),inplace=True)\n",
    "df[\"reduced_outside_home_cont\"].fillna(df[\"reduced_outside_home_cont\"].mean(),inplace=True)\n",
    "df[\"avoid_touch_face\"].fillna(df[\"avoid_touch_face\"].mean(),inplace=True)\n",
    "df[\"dr_recc_h1n1_vacc\"].fillna(df[\"dr_recc_h1n1_vacc\"].mean(),inplace=True)\n",
    "df[\"dr_recc_seasonal_vacc\"].fillna(df[\"dr_recc_seasonal_vacc\"].mean(),inplace=True)\n",
    "df[\"chronic_medic_condition\"].fillna(df[\"chronic_medic_condition\"].mean(),inplace=True)\n",
    "df[\"cont_child_undr_6_mnths\"].fillna(df[\"cont_child_undr_6_mnths\"].mean(),inplace=True)\n",
    "df[\"is_health_worker\"].fillna(df[\"is_health_worker\"].mean(),inplace=True)\n",
    "df[\"is_h1n1_vacc_effective\"].fillna(df[\"is_h1n1_vacc_effective\"].mean(),inplace=True)\n",
    "df[\"is_h1n1_risky\"].fillna(df[\"is_h1n1_risky\"].mean(),inplace=True)\n",
    "df[\"sick_from_h1n1_vacc\"].fillna(df[\"sick_from_h1n1_vacc\"].mean(),inplace=True)\n",
    "df[\"is_seas_vacc_effective\"].fillna(df[\"is_seas_vacc_effective\"].mean(),inplace=True)\n",
    "df[\"is_seas_risky\"].fillna(df[\"is_seas_risky\"].mean(),inplace=True)\n",
    "df[\"sick_from_seas_vacc\"].fillna(df[\"sick_from_seas_vacc\"].mean(),inplace=True)\n",
    "df[\"no_of_adults\"].fillna(df[\"no_of_adults\"].mean(),inplace=True)\n",
    "df[\"no_of_children\"].fillna(df[\"no_of_children\"].mean(),inplace=True)"
   ]
  },
  {
   "cell_type": "code",
   "execution_count": null,
   "id": "13eb1072",
   "metadata": {},
   "outputs": [],
   "source": [
    "df.isnull().sum()"
   ]
  },
  {
   "cell_type": "code",
   "execution_count": null,
   "id": "7b1ad90c",
   "metadata": {},
   "outputs": [],
   "source": [
    "df.dtypes"
   ]
  },
  {
   "cell_type": "code",
   "execution_count": null,
   "id": "1c9b5bee",
   "metadata": {},
   "outputs": [],
   "source": [
    "\n",
    "df['unique_id']=df['unique_id'].astype(float)"
   ]
  },
  {
   "cell_type": "code",
   "execution_count": null,
   "id": "65da8559",
   "metadata": {},
   "outputs": [],
   "source": [
    "df.dtypes"
   ]
  },
  {
   "cell_type": "code",
   "execution_count": null,
   "id": "bd4a8991",
   "metadata": {},
   "outputs": [],
   "source": [
    "corr=df.corr()\n",
    "plt.figure(figsize=(30,30))\n",
    "sns.heatmap(corr,annot=True,linewidth=2.5,cmap=\"PiYG\")\n",
    "plt.show()"
   ]
  },
  {
   "cell_type": "code",
   "execution_count": null,
   "id": "aee86320",
   "metadata": {},
   "outputs": [],
   "source": []
  },
  {
   "cell_type": "code",
   "execution_count": null,
   "id": "c52d8d8d",
   "metadata": {},
   "outputs": [],
   "source": []
  },
  {
   "cell_type": "code",
   "execution_count": null,
   "id": "27f0edac",
   "metadata": {},
   "outputs": [],
   "source": []
  },
  {
   "cell_type": "code",
   "execution_count": null,
   "id": "b4cdd551",
   "metadata": {},
   "outputs": [],
   "source": [
    "x=df.drop('h1n1_vaccine',axis=1)\n",
    "y=df[['h1n1_vaccine']]"
   ]
  },
  {
   "cell_type": "code",
   "execution_count": null,
   "id": "22f5bfe4",
   "metadata": {},
   "outputs": [],
   "source": [
    "xtrain,xtest,ytrain,ytest=train_test_split(x,y,test_size=0.20,random_state=0)"
   ]
  },
  {
   "cell_type": "code",
   "execution_count": null,
   "id": "3c10cc67",
   "metadata": {},
   "outputs": [],
   "source": [
    "model=LogisticRegression()\n",
    "model.fit(xtrain,ytrain)"
   ]
  },
  {
   "cell_type": "code",
   "execution_count": null,
   "id": "c5763125",
   "metadata": {},
   "outputs": [],
   "source": [
    "model.score(xtrain,ytrain)"
   ]
  },
  {
   "cell_type": "code",
   "execution_count": null,
   "id": "68e5e162",
   "metadata": {},
   "outputs": [],
   "source": [
    "model.score(xtest,ytest)"
   ]
  },
  {
   "cell_type": "code",
   "execution_count": null,
   "id": "a123de73",
   "metadata": {},
   "outputs": [],
   "source": [
    "model1=KNeighborsClassifier()\n",
    "model1.fit(xtrain,ytrain)"
   ]
  },
  {
   "cell_type": "code",
   "execution_count": null,
   "id": "727ab7c3",
   "metadata": {},
   "outputs": [],
   "source": [
    "model1.score(xtrain,ytrain)"
   ]
  },
  {
   "cell_type": "code",
   "execution_count": null,
   "id": "5e74c2f7",
   "metadata": {},
   "outputs": [],
   "source": [
    "model1.score(xtest,ytest)"
   ]
  },
  {
   "cell_type": "code",
   "execution_count": null,
   "id": "0819415d",
   "metadata": {},
   "outputs": [],
   "source": [
    "model2=DecisionTreeClassifier()\n",
    "model2.fit(xtrain,ytrain)"
   ]
  },
  {
   "cell_type": "code",
   "execution_count": null,
   "id": "af8d9eeb",
   "metadata": {},
   "outputs": [],
   "source": [
    "model2.score(xtrain,ytrain)"
   ]
  },
  {
   "cell_type": "code",
   "execution_count": null,
   "id": "fe378dd5",
   "metadata": {},
   "outputs": [],
   "source": [
    "model2.score(xtest,ytest)"
   ]
  },
  {
   "cell_type": "code",
   "execution_count": null,
   "id": "92c0b923",
   "metadata": {},
   "outputs": [],
   "source": [
    "model3=RandomForestClassifier()\n",
    "model3.fit(xtrain,ytrain)"
   ]
  },
  {
   "cell_type": "code",
   "execution_count": null,
   "id": "843ceec5",
   "metadata": {},
   "outputs": [],
   "source": [
    "model3.score(xtrain,ytrain)"
   ]
  },
  {
   "cell_type": "code",
   "execution_count": null,
   "id": "a8f2095d",
   "metadata": {},
   "outputs": [],
   "source": [
    "model3.score(xtest,ytest)"
   ]
  },
  {
   "cell_type": "code",
   "execution_count": null,
   "id": "0b74ef36",
   "metadata": {},
   "outputs": [],
   "source": [
    "model4=GradientBoostingClassifier()\n",
    "model4.fit(xtrain,ytrain)"
   ]
  },
  {
   "cell_type": "code",
   "execution_count": null,
   "id": "837d4e7f",
   "metadata": {},
   "outputs": [],
   "source": [
    "model4.score(xtrain,ytrain)"
   ]
  },
  {
   "cell_type": "code",
   "execution_count": null,
   "id": "684b3488",
   "metadata": {},
   "outputs": [],
   "source": [
    "model4.score(xtest,ytest)"
   ]
  },
  {
   "cell_type": "code",
   "execution_count": null,
   "id": "a9b99398",
   "metadata": {},
   "outputs": [],
   "source": [
    "model5=AdaBoostClassifier()\n",
    "model5.fit(xtrain,ytrain)"
   ]
  },
  {
   "cell_type": "code",
   "execution_count": null,
   "id": "7d7e5db3",
   "metadata": {},
   "outputs": [],
   "source": [
    "model5.score(xtrain,ytrain)"
   ]
  },
  {
   "cell_type": "code",
   "execution_count": null,
   "id": "f2154312",
   "metadata": {},
   "outputs": [],
   "source": [
    "model5.score(xtest,ytest)"
   ]
  },
  {
   "cell_type": "code",
   "execution_count": null,
   "id": "1e81c6e6",
   "metadata": {},
   "outputs": [],
   "source": [
    "xt=model.predict(xtrain)\n",
    "ta=accuracy_score(xt,ytrain)\n",
    "print(ta)"
   ]
  },
  {
   "cell_type": "code",
   "execution_count": null,
   "id": "d9787b77",
   "metadata": {},
   "outputs": [],
   "source": [
    "#GradientBoostingClassifier best\n",
    "inputdata=(0,1,0,0,0,0,0,0,1,1,0,0,0,0,0,3,1,2,2,1,2,56,3,1,1,1,0,1,1,0,0,0)\n",
    "inp=np.asarray(inputdata)\n",
    "inpreshape=inp.reshape(1,-1)\n",
    "prediction=model4.predict(inpreshape)\n",
    "print(prediction)\n",
    "if(prediction[0]==1):\n",
    "    print(\"the person is vaccinated\")\n",
    "else:\n",
    "    print(\"the person is not vaccinated\")"
   ]
  },
  {
   "cell_type": "code",
   "execution_count": null,
   "id": "3ea5942a",
   "metadata": {},
   "outputs": [],
   "source": [
    "inp1=(7,1,0,0,1,0,1,0,0,1,1,0,1,0,0,5,2,1,4,2,1,46,1,1,1,74999,1,1,2,0,2,0)\n",
    "inp=np.asarray(inp1)\n",
    "inpreshape=inp.reshape(1,-1)\n",
    "prediction=model4.predict(inpreshape)\n",
    "print(prediction)\n",
    "if(prediction[0]==1):\n",
    "    print(\"the person is vaccinated\")\n",
    "else:\n",
    "    print(\"the person is not vaccinated\")"
   ]
  },
  {
   "cell_type": "code",
   "execution_count": null,
   "id": "638ae96e",
   "metadata": {},
   "outputs": [],
   "source": []
  }
 ],
 "metadata": {
  "kernelspec": {
   "display_name": "Python 3 (ipykernel)",
   "language": "python",
   "name": "python3"
  },
  "language_info": {
   "codemirror_mode": {
    "name": "ipython",
    "version": 3
   },
   "file_extension": ".py",
   "mimetype": "text/x-python",
   "name": "python",
   "nbconvert_exporter": "python",
   "pygments_lexer": "ipython3",
   "version": "3.10.9"
  }
 },
 "nbformat": 4,
 "nbformat_minor": 5
}
